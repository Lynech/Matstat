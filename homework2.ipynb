{
 "cells": [
  {
   "cell_type": "markdown",
   "metadata": {},
   "source": [
    "# Домашняя работа №2\n",
    "## Текстовая 4\n",
    "![текстовая 4](photos/homework2_4_1.jpg)\n",
    "![текстовая 4](photos/homework2_4_2.jpg)\n",
    "![текстовая 4](photos/homework2_4_3.jpg)\n",
    "## Текстовая 5\n",
    "![текстовая 5](photos/homework2_5_1.jpg)\n",
    "![текстовая 5](photos/homework2_5_2.jpg)\n",
    "![текстовая 5](photos/homework2_5_3.jpg)\n",
    "\n",
    "(В пункте е) делал для оценки teta_volna = teta_volna_volna_2 -- несмещенная оценка ОМП, но это не суть важно)\n",
    "\n",
    "Пункт f) в Т5 \n",
    "\n",
    "Возьмем значение тета = 5 "
   ]
  },
  {
   "cell_type": "code",
   "execution_count": 121,
   "metadata": {},
   "outputs": [],
   "source": [
    "import numpy as np\n",
    "import scipy.stats as st\n",
    "import matplotlib.pyplot as plt\n",
    "from statsmodels.distributions.empirical_distribution import ECDF\n",
    "import math\n",
    "from sklearn.utils import resample\n",
    "\n",
    "beta = 0.95\n",
    "teta = 5\n",
    "n = 100\n",
    "vyborka = teta * np.random.rand(n) + teta"
   ]
  },
  {
   "cell_type": "code",
   "execution_count": 122,
   "metadata": {},
   "outputs": [
    {
     "name": "stdout",
     "output_type": "stream",
     "text": [
      "Выборка:\n",
      " [8.14117125 6.01819902 5.68413145 6.52616949 9.26965337 8.93257651\n",
      " 5.85867857 8.45361467 5.61959773 9.26006116 8.0076404  5.49276736\n",
      " 5.42987981 5.04268489 6.85314265 7.77310854 8.37922273 5.74622054\n",
      " 6.85521822 9.18900212 7.35996606 8.47589349 8.07132943 9.39838424\n",
      " 5.05762336 9.02282991 9.97874634 6.09984759 5.87326788 8.67828972\n",
      " 8.53738783 5.92871906 5.8157162  5.454791   8.62064363 5.46252335\n",
      " 7.21215818 5.12949777 7.4125822  5.92381336 9.82844352 8.09672297\n",
      " 5.187506   8.34057283 6.39845457 6.24654436 9.07230157 6.76781306\n",
      " 6.7192642  5.21219953 5.56873807 8.4575767  8.35190815 7.79556434\n",
      " 8.49071347 6.41962782 9.92167894 6.58553406 6.24412068 5.85584765\n",
      " 6.07864737 9.7984376  9.13246273 7.11419797 9.23116662 9.27017392\n",
      " 8.2482008  5.39134941 7.64398864 6.25318911 7.46172214 7.74287633\n",
      " 7.77678814 5.88752057 8.3480454  9.0403939  6.01043486 5.43071737\n",
      " 7.72816736 9.34453497 6.83645674 9.84681459 7.67992927 8.30319471\n",
      " 8.35547049 8.13197643 9.76199888 7.79017659 9.7378388  8.36333309\n",
      " 7.173959   8.47091838 7.36666785 7.80987192 8.60890087 6.76809973\n",
      " 8.61244284 6.48372885 6.32767089 5.65551405]\n"
     ]
    }
   ],
   "source": [
    "print(\"Выборка:\\n\", vyborka)"
   ]
  },
  {
   "cell_type": "code",
   "execution_count": 123,
   "metadata": {},
   "outputs": [
    {
     "name": "stdout",
     "output_type": "stream",
     "text": [
      "Точный доверительный интервал:\n",
      "( 4.990004767763015 , 5.081388714448185 )\n",
      "Ширина доверительного интервала:  0.0913839466851698\n"
     ]
    }
   ],
   "source": [
    "precise_l = vyborka.max()/(1 + ((1+beta)/2)**(1/n))\n",
    "precise_r = vyborka.max()/(1 + ((1-beta)/2)**(1/n))\n",
    "precise_delta = precise_r - precise_l\n",
    "print(\"Точный доверительный интервал:\\n(\", precise_l,\",\", precise_r, \")\")\n",
    "print(\"Ширина доверительного интервала: \", precise_delta)"
   ]
  },
  {
   "cell_type": "code",
   "execution_count": 124,
   "metadata": {},
   "outputs": [
    {
     "name": "stdout",
     "output_type": "stream",
     "text": [
      "Асимптотический доверительный интервал:\n",
      "( 5.004512756792701 , 5.023879082979117 )\n",
      "Ширина доверительного интервала:  0.019366326186416316\n"
     ]
    }
   ],
   "source": [
    "teta_volna_volna_2 = vyborka.max() * (n+1)/(2*n+1)\n",
    "asymptotic_l = (-1.96/(n**2*(n-1)**2/(n-2)+3*n**2)**0.5 + 1)*teta_volna_volna_2\n",
    "asymptotic_r = (1.96/(n**2*(n-1)**2/(n-2)+3*n**2)**0.5 + 1)*teta_volna_volna_2\n",
    "asymptotic_delta = asymptotic_r - asymptotic_l\n",
    "print(\"Асимптотический доверительный интервал:\\n(\", asymptotic_l,\",\", asymptotic_r, \")\")\n",
    "print(\"Ширина доверительного интервала: \", asymptotic_delta)"
   ]
  },
  {
   "cell_type": "markdown",
   "metadata": {},
   "source": [
    "### Пункт g) в Т5. Не указано, какой надо -- буду делать непараметрический"
   ]
  },
  {
   "cell_type": "code",
   "execution_count": 125,
   "metadata": {},
   "outputs": [],
   "source": [
    "teta_volna_volna_2 = vyborka.max() * (n+1)/(2*n+1)\n",
    "def get_diff_teta_volna_volna_2(x):\n",
    "    global n, teta_volna_volna_2\n",
    "    return (x.max() * (n+1)/(2*n+1)) - teta_volna_volna_2\n",
    "\n",
    "N = 1000\n",
    "delta_zvezdochka = []\n",
    "for i in range(N):\n",
    "    delta_zvezdochka.append(get_diff_teta_volna_volna_2(resample(vyborka, replace=True, n_samples=n)))\n",
    "delta_zvezdochka.sort()"
   ]
  },
  {
   "cell_type": "code",
   "execution_count": 126,
   "metadata": {},
   "outputs": [
    {
     "name": "stdout",
     "output_type": "stream",
     "text": [
      "Бутстраповский непараметрический доверительный интервал:\n",
      "( 5.014195919885909 , 5.08972121565257 )\n",
      "Ширина доверительного интервала:  0.07552529576666167\n"
     ]
    }
   ],
   "source": [
    "K_1 = int((1 - beta)/2*N)\n",
    "K_2 = int((1 + beta)/2*N)\n",
    "\n",
    "t_1 = delta_zvezdochka[K_1]\n",
    "t_2 = delta_zvezdochka[K_2]\n",
    "\n",
    "bootstrap_l = teta_volna_volna_2 - t_2\n",
    "bootstrap_r = teta_volna_volna_2 - t_1\n",
    "bootstrap_delta = bootstrap_r - bootstrap_l\n",
    "print(\"Бутстраповский непараметрический доверительный интервал:\\n(\", bootstrap_l,\",\", bootstrap_r, \")\")\n",
    "print(\"Ширина доверительного интервала: \", bootstrap_delta)"
   ]
  },
  {
   "cell_type": "markdown",
   "metadata": {},
   "source": [
    "### Пункт h) в Т5 \n",
    "\n",
    "Сравнить доверительные интервалы \n",
    "\n",
    "Хоть из всех оценок у точного метода самая большая ширина интервала, он единственный содержит в себе истинное значение тета. Асимптотический метод может быть использован, когда у нас гораздо большее значение n (но для этого метода надо знать хоть что-то о распределении) -- дает наименьшую ширину интервала, но значение в него не попадает. Бутстраповский -- дает среднюю ширину, его плюс в том, что нам не надо ничего знать о распределении, только оценку. \n",
    "\n",
    "\n",
    "## Текстовая 6\n",
    "%%[markdown]\n",
    "![текстовая 6](photos/homework2_6_1.jpg)\n",
    "![текстовая 6](photos/homework2_6_2.jpg)\n",
    "\n",
    "### Пункт d) в Т6"
   ]
  },
  {
   "cell_type": "code",
   "execution_count": 146,
   "metadata": {},
   "outputs": [],
   "source": [
    "beta = 0.95\n",
    "teta = 2\n",
    "n = 100\n",
    "vyborka = (- np.random.rand(n) + 1)**(1/(1 - teta))"
   ]
  },
  {
   "cell_type": "code",
   "execution_count": 147,
   "metadata": {},
   "outputs": [
    {
     "name": "stdout",
     "output_type": "stream",
     "text": [
      "Выборка:\n",
      " [  1.08075158   1.28322863   1.00978833   1.55376951   3.90354129\n",
      "   1.13562087 201.49698154   2.20129826   5.59212806   1.49014875\n",
      "   1.15820467   1.09536698   2.39643066   4.78447769   3.51866836\n",
      "  17.52048256   1.77917604   1.55093166  25.42345197   1.11724216\n",
      "   3.37064444   2.3554104    3.53980826   1.98200937   3.15550988\n",
      "   2.41499215   1.1220869    2.8721993    1.06888036   1.97881563\n",
      "   1.20906392   1.28568805   1.40283942   3.2062189    1.9021884\n",
      "   3.83843849   5.23522206   2.21057059   2.66959026   3.09424776\n",
      "   3.16589033   1.07660573   2.16968329   3.21813708   9.8816967\n",
      "   1.69162591   7.20786926   2.73353737  41.26912822   1.90591482\n",
      "   2.22400848   1.01580216   3.52596197   1.54121699   2.79984734\n",
      "   1.37835186   6.54860227   2.39336721   4.66246076  10.72073169\n",
      "   1.09688609  86.60512798   1.24796777   1.74144107   7.78452161\n",
      "   4.13841656   1.48027186   2.30308066   1.68450635   1.60439171\n",
      "   2.29121131   1.31058681   2.93890269   2.5017399    1.40742352\n",
      "   1.25017081   2.0914957    1.67277559   5.78658922   4.49452527\n",
      "   7.94852552   3.24461711   3.32308343   1.51068512   2.35385928\n",
      "   7.25233312   1.05834297   1.11804311  10.46145198   7.05685437\n",
      "   2.07874096   2.07098746   1.82664687   1.36757103   1.88276916\n",
      "   1.32336378   1.20099062   1.88337305   1.06972797   1.29427304]\n"
     ]
    }
   ],
   "source": [
    "print(\"Выборка:\\n\", vyborka)"
   ]
  },
  {
   "cell_type": "code",
   "execution_count": 148,
   "metadata": {},
   "outputs": [
    {
     "name": "stdout",
     "output_type": "stream",
     "text": [
      "Доверительный интервал для медианы:\n",
      "( 1.707587197527027 , 2.230593565862839 )\n",
      "Ширина доверительного интервала:  0.5230063683358122\n",
      "Действительное значение медианы:  2.0\n"
     ]
    }
   ],
   "source": [
    "avg_ln = np.log(vyborka).mean()\n",
    "M_l = -1.96*2**avg_ln*np.log(2)*avg_ln/n**0.5 + 2**avg_ln\n",
    "M_r = 1.96*2**avg_ln*np.log(2)*avg_ln/n**0.5 + 2**avg_ln\n",
    "M_delta = M_r - M_l\n",
    "M = (0.5)**(1/(1 - teta))\n",
    "\n",
    "print(\"Доверительный интервал для медианы:\\n(\", M_l,\",\", M_r, \")\")\n",
    "print(\"Ширина доверительного интервала: \", M_delta)\n",
    "print(\"Действительное значение медианы: \", M)"
   ]
  },
  {
   "cell_type": "code",
   "execution_count": 149,
   "metadata": {},
   "outputs": [
    {
     "name": "stdout",
     "output_type": "stream",
     "text": [
      "Доверительный интервал для параметра тета:\n",
      "( 1.8224817128569717 , 2.223492697234998 )\n",
      "Ширина доверительного интервала:  0.4010109843780263\n",
      "Действительное значение теты:  2\n"
     ]
    }
   ],
   "source": [
    "asymptotic_l = -1.96/(n**0.5*np.log(vyborka).mean())+1/(np.log(vyborka).mean()) + 1\n",
    "asymptotic_r = 1.96/(n**0.5*np.log(vyborka).mean())+1/(np.log(vyborka).mean()) + 1\n",
    "asymptotic_delta = asymptotic_r - asymptotic_l\n",
    "\n",
    "\n",
    "print(\"Доверительный интервал для параметра тета:\\n(\", asymptotic_l,\",\", asymptotic_r, \")\")\n",
    "print(\"Ширина доверительного интервала: \", asymptotic_delta)\n",
    "print(\"Действительное значение теты: \", teta)"
   ]
  },
  {
   "cell_type": "markdown",
   "metadata": {},
   "source": [
    "### e) Бутстраповские доверительные интервалы (параметрический и непараметрический)\n",
    "#### Параметрический"
   ]
  },
  {
   "cell_type": "code",
   "execution_count": 150,
   "metadata": {},
   "outputs": [],
   "source": [
    "teta_volna = 1/(np.log(vyborka).mean()) + 1\n",
    "def get_diff_teta_volna(x):\n",
    "    global n, teta_volna\n",
    "    return (1/(np.log(x).mean()) + 1) - teta_volna\n",
    "\n",
    "N = 1000\n",
    "delta_zvezdochka = []\n",
    "for i in range(N):\n",
    "    delta_zvezdochka.append(get_diff_teta_volna(resample(vyborka, replace=True, n_samples=n)))\n",
    "delta_zvezdochka.sort()"
   ]
  },
  {
   "cell_type": "code",
   "execution_count": 151,
   "metadata": {},
   "outputs": [
    {
     "name": "stdout",
     "output_type": "stream",
     "text": [
      "Параметрический бутстраповский доверительный интервал:\n",
      "( 1.8209347757150462 , 2.1935050860340306 )\n",
      "Ширина доверительного интервала:  0.37257031031898435\n",
      "Действительное значение теты:  2\n"
     ]
    }
   ],
   "source": [
    "K_1 = int((1 - beta)/2*N)\n",
    "K_2 = int((1 + beta)/2*N)\n",
    "\n",
    "t_1 = delta_zvezdochka[K_1]\n",
    "t_2 = delta_zvezdochka[K_2]\n",
    "\n",
    "bootstrap_l = teta_volna - t_2\n",
    "bootstrap_r = teta_volna - t_1\n",
    "bootstrap_delta = bootstrap_r - bootstrap_l\n",
    "print(\"Параметрический бутстраповский доверительный интервал:\\n(\", bootstrap_l,\",\", bootstrap_r, \")\")\n",
    "print(\"Ширина доверительного интервала: \", bootstrap_delta)\n",
    "print(\"Действительное значение теты: \", teta)"
   ]
  },
  {
   "cell_type": "markdown",
   "metadata": {},
   "source": [
    "#### Параметрический"
   ]
  },
  {
   "cell_type": "code",
   "execution_count": 152,
   "metadata": {},
   "outputs": [],
   "source": [
    "teta_volna = 1/(np.log(vyborka).mean()) + 1\n",
    "def get_diff_teta_volna(x):\n",
    "    global n, teta_volna\n",
    "    return (1/(np.log(x).mean()) + 1) - teta_volna\n",
    "\n",
    "N = 10000\n",
    "delta_zvezdochka = []\n",
    "for i in range(N):\n",
    "    delta_zvezdochka.append(get_diff_teta_volna((- np.random.rand(n) + 1)**(1/(1 - teta_volna))))\n",
    "delta_zvezdochka.sort()"
   ]
  },
  {
   "cell_type": "code",
   "execution_count": 153,
   "metadata": {},
   "outputs": [
    {
     "name": "stdout",
     "output_type": "stream",
     "text": [
      "Непараметрический бутстраповский доверительный интервал:\n",
      "( 1.7902888961546477 , 2.196144661698071 )\n",
      "Ширина доверительного интервала:  0.4058557655434232\n",
      "Действительное значение теты:  2\n"
     ]
    }
   ],
   "source": [
    "K_1 = int((1 - beta)/2*N)\n",
    "K_2 = int((1 + beta)/2*N)\n",
    "\n",
    "t_1 = delta_zvezdochka[K_1]\n",
    "t_2 = delta_zvezdochka[K_2]\n",
    "\n",
    "bootstrap_l = teta_volna - t_2\n",
    "bootstrap_r = teta_volna - t_1\n",
    "bootstrap_delta = bootstrap_r - bootstrap_l\n",
    "print(\"Непараметрический бутстраповский доверительный интервал:\\n(\", bootstrap_l,\",\", bootstrap_r, \")\")\n",
    "print(\"Ширина доверительного интервала: \", bootstrap_delta)\n",
    "print(\"Действительное значение теты: \", teta)"
   ]
  },
  {
   "cell_type": "markdown",
   "metadata": {},
   "source": [
    "### f) Сравнить\n",
    "\n",
    "ширина медианы > ширина параметрического бутстрапа > ширина асимптотического > ширина непарпмнтрического бутстрапа\n",
    "\n",
    "В этом примере не было точных методов, но нам повезло и все доверительные интервалы содержат истинное значение. Из всех интервалов более узким оказался интервал непарпмнтрического бутстрапа.\n",
    "\n",
    "Попробовал параметрический бутстраповский интервал -- его плюс в том, что он ведет себя похожим на оригинальное распределение образом, но по другому параметру (в сравнении с дискретным распределением на непараметрическом бутстрапе выглядит даже выигрышно). (Но это же и его минус, потому что мы генерируем выборки с другим параметром, отличным от изначального) -- это все комметнарии в моем понимании. На лекциях можете с удовольствием их разоблачить :)"
   ]
  }
 ],
 "metadata": {
  "kernelspec": {
   "display_name": "Python 3",
   "language": "python",
   "name": "python3"
  },
  "language_info": {
   "codemirror_mode": {
    "name": "ipython",
    "version": 3
   },
   "file_extension": ".py",
   "mimetype": "text/x-python",
   "name": "python",
   "nbconvert_exporter": "python",
   "pygments_lexer": "ipython3",
   "version": "3.12.5"
  }
 },
 "nbformat": 4,
 "nbformat_minor": 2
}
