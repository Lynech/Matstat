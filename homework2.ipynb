{
 "cells": [
  {
   "cell_type": "markdown",
   "metadata": {},
   "source": [
    "# Домашняя работа №2\n",
    "## Текстовая 4\n",
    "![текстовая 4](photos/homework2_4_1.jpg)\n",
    "![текстовая 4](photos/homework2_4_2.jpg)\n",
    "![текстовая 4](photos/homework2_4_3.jpg)\n",
    "## Текстовая 5\n",
    "![текстовая 5](photos/homework2_5_1.jpg)\n",
    "![текстовая 5](photos/homework2_5_22.jpg)\n",
    "![текстовая 5](photos/homework2_5_3.jpg)\n",
    "\n",
    "(В пункте е) делал для оценки teta_volna = teta_volna_volna_2 -- несмещенная оценка ОМП, но это не суть важно)\n",
    "\n",
    "Пункт f) в Т5 \n",
    "\n",
    "Возьмем значение тета = 5 "
   ]
  },
  {
   "cell_type": "code",
   "execution_count": 5,
   "metadata": {},
   "outputs": [],
   "source": [
    "import numpy as np\n",
    "import scipy.stats as st\n",
    "import matplotlib.pyplot as plt\n",
    "from statsmodels.distributions.empirical_distribution import ECDF\n",
    "import math\n",
    "from sklearn.utils import resample\n",
    "\n",
    "beta = 0.95\n",
    "teta = 5\n",
    "n = 100\n",
    "vyborka = teta * np.random.rand(n) + teta"
   ]
  },
  {
   "cell_type": "code",
   "execution_count": 15,
   "metadata": {},
   "outputs": [
    {
     "name": "stdout",
     "output_type": "stream",
     "text": [
      "Выборка:\n",
      " [6.48903433 9.83825485 7.35433985 9.97304447 8.46616178 6.50368215\n",
      " 5.90953985 5.11794906 6.50838159 9.8175116  9.75263493 7.54770773\n",
      " 9.58248897 8.0159114  6.32875664 8.39059783 8.30835141 7.1691546\n",
      " 7.36115322 8.58370485 7.00409808 8.89691697 9.116982   5.72485621\n",
      " 5.08581682 6.5119075  5.68963608 9.15755795 9.27787562 5.44017701\n",
      " 8.83037967 6.89223264 7.35062013 7.81428537 9.75703851 7.17961982\n",
      " 7.15144662 8.26804102 5.433444   6.52370456 9.82286534 8.24368099\n",
      " 8.97119099 6.0603239  9.71764041 9.6723828  5.85862507 8.57744451\n",
      " 7.49399241 8.64647593 7.38060782 9.92146581 9.28706939 6.58192395\n",
      " 8.20940959 6.31170975 8.07519208 5.91403713 8.57058784 6.05851348\n",
      " 5.24268109 7.02406652 5.76577831 8.02532042 5.97100616 7.85320965\n",
      " 5.00087729 7.9805389  7.43250275 9.85003538 9.86022693 8.2674552\n",
      " 6.7004545  5.09122553 7.44737883 9.12369358 6.57771312 6.09773689\n",
      " 5.46225848 6.52534085 7.36328411 5.83913729 5.3922897  8.96734625\n",
      " 8.46671933 8.39432727 8.35841137 8.89795416 5.18870539 9.35924279\n",
      " 6.40137479 6.39068603 5.43816327 7.96872997 7.23777621 9.69146229\n",
      " 8.97844264 6.84266319 7.17133826 6.78418542]\n"
     ]
    }
   ],
   "source": [
    "print(\"Выборка:\\n\", vyborka)"
   ]
  },
  {
   "cell_type": "code",
   "execution_count": 18,
   "metadata": {},
   "outputs": [
    {
     "name": "stdout",
     "output_type": "stream",
     "text": [
      "Точный доверительный интервал:\n",
      "( 4.987153473675613 , 5.07848520347543 )\n",
      "Ширина доверительного интервала:  0.0913317297998173\n"
     ]
    }
   ],
   "source": [
    "precise_l = vyborka.max()/(1 + ((1+beta)/2)**(1/n))\n",
    "precise_r = vyborka.max()/(1 + ((1-beta)/2)**(1/n))\n",
    "precise_delta = precise_r - precise_l\n",
    "print(\"Точный доверительный интервал:\\n(\", precise_l,\",\", precise_r, \")\")\n",
    "print(\"Ширина доверительного интервала: \", precise_delta)"
   ]
  },
  {
   "cell_type": "code",
   "execution_count": 27,
   "metadata": {},
   "outputs": [
    {
     "name": "stdout",
     "output_type": "stream",
     "text": [
      "Асимптотический доверительный интервал:\n",
      "( 5.001653172824774 , 5.021008433071593 )\n",
      "Ширина доверительного интервала:  0.019355260246818773\n"
     ]
    }
   ],
   "source": [
    "teta_volna_volna_2 = vyborka.max() * (n+1)/(2*n+1)\n",
    "asymptotic_l = (-1.96/(n**2*(n-1)**2/(n-2)+3*n**2)**0.5 + 1)*teta_volna_volna_2\n",
    "asymptotic_r = (1.96/(n**2*(n-1)**2/(n-2)+3*n**2)**0.5 + 1)*teta_volna_volna_2\n",
    "asymptotic_delta = asymptotic_r - asymptotic_l\n",
    "print(\"Асимптотический доверительный интервал:\\n(\", asymptotic_l,\",\", asymptotic_r, \")\")\n",
    "print(\"Ширина доверительного интервала: \", asymptotic_delta)"
   ]
  },
  {
   "cell_type": "markdown",
   "metadata": {},
   "source": [
    "Пункт g) в Т5. Не указано, какой надо -- буду делать непараметрический"
   ]
  },
  {
   "cell_type": "code",
   "execution_count": null,
   "metadata": {},
   "outputs": [],
   "source": [
    "teta_volna_volna_2 = vyborka.max() * (n+1)/(2*n+1)\n",
    "def get_diff_teta_volna_volna_2(x):\n",
    "    global n, teta_volna_volna_2\n",
    "    return (x.max() * (n+1)/(2*n+1)) - teta_volna_volna_2\n",
    "\n",
    "N = 1000\n",
    "delta_zvezdochka = []\n",
    "for i in range(N):\n",
    "    delta_zvezdochka.append(get_diff_teta_volna_volna_2(resample(vyborka, replace=True, n_samples=n)))\n",
    "delta_zvezdochka.sort()"
   ]
  },
  {
   "cell_type": "code",
   "execution_count": 41,
   "metadata": {},
   "outputs": [
    {
     "name": "stdout",
     "output_type": "stream",
     "text": [
      "Асимптотический доверительный интервал:\n",
      "( 5.011330802948184 , 5.073141339251192 )\n",
      "Ширина доверительного интервала:  0.06181053630300859\n"
     ]
    }
   ],
   "source": [
    "K_1 = int((1 - beta)/2*N)\n",
    "K_2 = int((1 + beta)/2*N)\n",
    "\n",
    "t_1 = delta_zvezdochka[K_1]\n",
    "t_2 = delta_zvezdochka[K_2]\n",
    "\n",
    "bootstrap_l = teta_volna_volna_2 - t_2\n",
    "bootstrap_r = teta_volna_volna_2 - t_1\n",
    "bootstrap_delta = bootstrap_r - bootstrap_l\n",
    "print(\"Асимптотический доверительный интервал:\\n(\", bootstrap_l,\",\", bootstrap_r, \")\")\n",
    "print(\"Ширина доверительного интервала: \", bootstrap_delta)"
   ]
  },
  {
   "cell_type": "markdown",
   "metadata": {},
   "source": [
    "Пункт h) в Т5 \n",
    "\n",
    "Сравнить доверительные интервалы \n",
    "\n",
    "Хоть из всех оценок у точного метода самая большая ширина интервала, он единственный содержит в себе истинное значение тета. Асимптотический метод может быть использован, когда у нас гораздо большее значение n (но для этого метода надо знать хоть что-то о распределении) -- дает наименьшую ширину интервала, но значение в него не попадает. Бутстраповский -- дает среднюю ширину, его плюс в том, что нам не надо ничего знать о распределении, только оценку."
   ]
  }
 ],
 "metadata": {
  "kernelspec": {
   "display_name": "Python 3",
   "language": "python",
   "name": "python3"
  },
  "language_info": {
   "codemirror_mode": {
    "name": "ipython",
    "version": 3
   },
   "file_extension": ".py",
   "mimetype": "text/x-python",
   "name": "python",
   "nbconvert_exporter": "python",
   "pygments_lexer": "ipython3",
   "version": "3.12.5"
  }
 },
 "nbformat": 4,
 "nbformat_minor": 2
}
